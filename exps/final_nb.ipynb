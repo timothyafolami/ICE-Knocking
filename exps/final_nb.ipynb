{
 "cells": [
  {
   "cell_type": "code",
   "execution_count": 30,
   "metadata": {},
   "outputs": [],
   "source": [
    "import pandas as pd\n",
    "import numpy as np \n",
    "import seaborn as sns\n",
    "import matplotlib.pyplot as plt\n",
    "from sklearn.preprocessing import MinMaxScaler\n",
    "from sklearn.model_selection import train_test_split\n",
    "from sklearn.metrics import r2_score\n",
    "import torch.nn as nn\n",
    "import torch"
   ]
  },
  {
   "cell_type": "code",
   "execution_count": 3,
   "metadata": {},
   "outputs": [],
   "source": [
    "df = pd.read_csv(\"../data/engine_knock_data_minute.csv\")"
   ]
  },
  {
   "cell_type": "code",
   "execution_count": 4,
   "metadata": {},
   "outputs": [
    {
     "data": {
      "text/html": [
       "<div>\n",
       "<style scoped>\n",
       "    .dataframe tbody tr th:only-of-type {\n",
       "        vertical-align: middle;\n",
       "    }\n",
       "\n",
       "    .dataframe tbody tr th {\n",
       "        vertical-align: top;\n",
       "    }\n",
       "\n",
       "    .dataframe thead th {\n",
       "        text-align: right;\n",
       "    }\n",
       "</style>\n",
       "<table border=\"1\" class=\"dataframe\">\n",
       "  <thead>\n",
       "    <tr style=\"text-align: right;\">\n",
       "      <th></th>\n",
       "      <th>Timestamp</th>\n",
       "      <th>Knock</th>\n",
       "      <th>RPM</th>\n",
       "      <th>IgnitionTiming</th>\n",
       "      <th>CylinderPressure</th>\n",
       "      <th>BurnRate</th>\n",
       "      <th>Vibration</th>\n",
       "      <th>EGOVoltage</th>\n",
       "      <th>TempSensor</th>\n",
       "    </tr>\n",
       "  </thead>\n",
       "  <tbody>\n",
       "    <tr>\n",
       "      <th>0</th>\n",
       "      <td>2025-01-01 00:00:00</td>\n",
       "      <td>True</td>\n",
       "      <td>3049.671415</td>\n",
       "      <td>10.0</td>\n",
       "      <td>27.824252</td>\n",
       "      <td>5.800160</td>\n",
       "      <td>0.530093</td>\n",
       "      <td>0.30</td>\n",
       "      <td>90.012747</td>\n",
       "    </tr>\n",
       "    <tr>\n",
       "      <th>1</th>\n",
       "      <td>2025-01-01 00:01:00</td>\n",
       "      <td>False</td>\n",
       "      <td>2988.355225</td>\n",
       "      <td>10.0</td>\n",
       "      <td>27.376702</td>\n",
       "      <td>8.290575</td>\n",
       "      <td>0.101943</td>\n",
       "      <td>0.45</td>\n",
       "      <td>88.775253</td>\n",
       "    </tr>\n",
       "    <tr>\n",
       "      <th>2</th>\n",
       "      <td>2025-01-01 00:02:00</td>\n",
       "      <td>False</td>\n",
       "      <td>3069.132122</td>\n",
       "      <td>10.0</td>\n",
       "      <td>22.180672</td>\n",
       "      <td>9.703642</td>\n",
       "      <td>0.093855</td>\n",
       "      <td>0.45</td>\n",
       "      <td>99.303394</td>\n",
       "    </tr>\n",
       "    <tr>\n",
       "      <th>3</th>\n",
       "      <td>2025-01-01 00:03:00</td>\n",
       "      <td>False</td>\n",
       "      <td>3158.847783</td>\n",
       "      <td>10.0</td>\n",
       "      <td>18.106361</td>\n",
       "      <td>5.032846</td>\n",
       "      <td>-0.019272</td>\n",
       "      <td>0.45</td>\n",
       "      <td>80.344908</td>\n",
       "    </tr>\n",
       "    <tr>\n",
       "      <th>4</th>\n",
       "      <td>2025-01-01 00:04:00</td>\n",
       "      <td>False</td>\n",
       "      <td>2985.310866</td>\n",
       "      <td>10.0</td>\n",
       "      <td>12.967104</td>\n",
       "      <td>1.997190</td>\n",
       "      <td>0.128391</td>\n",
       "      <td>0.45</td>\n",
       "      <td>88.456489</td>\n",
       "    </tr>\n",
       "  </tbody>\n",
       "</table>\n",
       "</div>"
      ],
      "text/plain": [
       "             Timestamp  Knock          RPM  IgnitionTiming  CylinderPressure  \\\n",
       "0  2025-01-01 00:00:00   True  3049.671415            10.0         27.824252   \n",
       "1  2025-01-01 00:01:00  False  2988.355225            10.0         27.376702   \n",
       "2  2025-01-01 00:02:00  False  3069.132122            10.0         22.180672   \n",
       "3  2025-01-01 00:03:00  False  3158.847783            10.0         18.106361   \n",
       "4  2025-01-01 00:04:00  False  2985.310866            10.0         12.967104   \n",
       "\n",
       "   BurnRate  Vibration  EGOVoltage  TempSensor  \n",
       "0  5.800160   0.530093        0.30   90.012747  \n",
       "1  8.290575   0.101943        0.45   88.775253  \n",
       "2  9.703642   0.093855        0.45   99.303394  \n",
       "3  5.032846  -0.019272        0.45   80.344908  \n",
       "4  1.997190   0.128391        0.45   88.456489  "
      ]
     },
     "execution_count": 4,
     "metadata": {},
     "output_type": "execute_result"
    }
   ],
   "source": [
    "df.head()"
   ]
  },
  {
   "cell_type": "code",
   "execution_count": 5,
   "metadata": {},
   "outputs": [],
   "source": [
    "df = df.drop(columns=['Knock', 'IgnitionTiming'])"
   ]
  },
  {
   "cell_type": "code",
   "execution_count": 6,
   "metadata": {},
   "outputs": [
    {
     "data": {
      "text/html": [
       "<div>\n",
       "<style scoped>\n",
       "    .dataframe tbody tr th:only-of-type {\n",
       "        vertical-align: middle;\n",
       "    }\n",
       "\n",
       "    .dataframe tbody tr th {\n",
       "        vertical-align: top;\n",
       "    }\n",
       "\n",
       "    .dataframe thead th {\n",
       "        text-align: right;\n",
       "    }\n",
       "</style>\n",
       "<table border=\"1\" class=\"dataframe\">\n",
       "  <thead>\n",
       "    <tr style=\"text-align: right;\">\n",
       "      <th></th>\n",
       "      <th>Timestamp</th>\n",
       "      <th>RPM</th>\n",
       "      <th>CylinderPressure</th>\n",
       "      <th>BurnRate</th>\n",
       "      <th>Vibration</th>\n",
       "      <th>EGOVoltage</th>\n",
       "      <th>TempSensor</th>\n",
       "    </tr>\n",
       "  </thead>\n",
       "  <tbody>\n",
       "    <tr>\n",
       "      <th>0</th>\n",
       "      <td>2025-01-01 00:00:00</td>\n",
       "      <td>3049.671415</td>\n",
       "      <td>27.824252</td>\n",
       "      <td>5.800160</td>\n",
       "      <td>0.530093</td>\n",
       "      <td>0.30</td>\n",
       "      <td>90.012747</td>\n",
       "    </tr>\n",
       "    <tr>\n",
       "      <th>1</th>\n",
       "      <td>2025-01-01 00:01:00</td>\n",
       "      <td>2988.355225</td>\n",
       "      <td>27.376702</td>\n",
       "      <td>8.290575</td>\n",
       "      <td>0.101943</td>\n",
       "      <td>0.45</td>\n",
       "      <td>88.775253</td>\n",
       "    </tr>\n",
       "    <tr>\n",
       "      <th>2</th>\n",
       "      <td>2025-01-01 00:02:00</td>\n",
       "      <td>3069.132122</td>\n",
       "      <td>22.180672</td>\n",
       "      <td>9.703642</td>\n",
       "      <td>0.093855</td>\n",
       "      <td>0.45</td>\n",
       "      <td>99.303394</td>\n",
       "    </tr>\n",
       "    <tr>\n",
       "      <th>3</th>\n",
       "      <td>2025-01-01 00:03:00</td>\n",
       "      <td>3158.847783</td>\n",
       "      <td>18.106361</td>\n",
       "      <td>5.032846</td>\n",
       "      <td>-0.019272</td>\n",
       "      <td>0.45</td>\n",
       "      <td>80.344908</td>\n",
       "    </tr>\n",
       "    <tr>\n",
       "      <th>4</th>\n",
       "      <td>2025-01-01 00:04:00</td>\n",
       "      <td>2985.310866</td>\n",
       "      <td>12.967104</td>\n",
       "      <td>1.997190</td>\n",
       "      <td>0.128391</td>\n",
       "      <td>0.45</td>\n",
       "      <td>88.456489</td>\n",
       "    </tr>\n",
       "  </tbody>\n",
       "</table>\n",
       "</div>"
      ],
      "text/plain": [
       "             Timestamp          RPM  CylinderPressure  BurnRate  Vibration  \\\n",
       "0  2025-01-01 00:00:00  3049.671415         27.824252  5.800160   0.530093   \n",
       "1  2025-01-01 00:01:00  2988.355225         27.376702  8.290575   0.101943   \n",
       "2  2025-01-01 00:02:00  3069.132122         22.180672  9.703642   0.093855   \n",
       "3  2025-01-01 00:03:00  3158.847783         18.106361  5.032846  -0.019272   \n",
       "4  2025-01-01 00:04:00  2985.310866         12.967104  1.997190   0.128391   \n",
       "\n",
       "   EGOVoltage  TempSensor  \n",
       "0        0.30   90.012747  \n",
       "1        0.45   88.775253  \n",
       "2        0.45   99.303394  \n",
       "3        0.45   80.344908  \n",
       "4        0.45   88.456489  "
      ]
     },
     "execution_count": 6,
     "metadata": {},
     "output_type": "execute_result"
    }
   ],
   "source": [
    "df.head()"
   ]
  },
  {
   "cell_type": "code",
   "execution_count": 7,
   "metadata": {},
   "outputs": [],
   "source": [
    "df['Timestamp'] = pd.to_datetime(df['Timestamp'])"
   ]
  },
  {
   "cell_type": "code",
   "execution_count": 8,
   "metadata": {},
   "outputs": [
    {
     "data": {
      "text/plain": [
       "Timestamp           0\n",
       "RPM                 0\n",
       "CylinderPressure    0\n",
       "BurnRate            0\n",
       "Vibration           0\n",
       "EGOVoltage          0\n",
       "TempSensor          0\n",
       "dtype: int64"
      ]
     },
     "execution_count": 8,
     "metadata": {},
     "output_type": "execute_result"
    }
   ],
   "source": [
    "df.isna().sum()"
   ]
  },
  {
   "cell_type": "code",
   "execution_count": 13,
   "metadata": {},
   "outputs": [],
   "source": [
    "# Initialize the scaler\n",
    "scaler = MinMaxScaler()\n",
    "\n",
    "# Normalize each column\n",
    "scaled_data = scaler.fit_transform(df.drop(columns=['Timestamp']))\n",
    "\n",
    "# Convert back to a DataFrame with the same index and columns\n",
    "df_scaled = pd.DataFrame(scaled_data, index=df.index, columns=df.columns[1:])"
   ]
  },
  {
   "cell_type": "code",
   "execution_count": 17,
   "metadata": {},
   "outputs": [],
   "source": [
    "df_scaled['Timestamp'] = df['Timestamp']\n",
    "\n",
    "# Reorder columns to put Timestamp first\n",
    "df_scaled = df_scaled[['Timestamp'] + [col for col in df_scaled.columns if col != 'Timestamp']]"
   ]
  },
  {
   "cell_type": "code",
   "execution_count": 18,
   "metadata": {},
   "outputs": [
    {
     "data": {
      "text/html": [
       "<div>\n",
       "<style scoped>\n",
       "    .dataframe tbody tr th:only-of-type {\n",
       "        vertical-align: middle;\n",
       "    }\n",
       "\n",
       "    .dataframe tbody tr th {\n",
       "        vertical-align: top;\n",
       "    }\n",
       "\n",
       "    .dataframe thead th {\n",
       "        text-align: right;\n",
       "    }\n",
       "</style>\n",
       "<table border=\"1\" class=\"dataframe\">\n",
       "  <thead>\n",
       "    <tr style=\"text-align: right;\">\n",
       "      <th></th>\n",
       "      <th>Timestamp</th>\n",
       "      <th>RPM</th>\n",
       "      <th>CylinderPressure</th>\n",
       "      <th>BurnRate</th>\n",
       "      <th>Vibration</th>\n",
       "      <th>EGOVoltage</th>\n",
       "      <th>TempSensor</th>\n",
       "    </tr>\n",
       "  </thead>\n",
       "  <tbody>\n",
       "    <tr>\n",
       "      <th>0</th>\n",
       "      <td>2025-01-01 00:00:00</td>\n",
       "      <td>0.525701</td>\n",
       "      <td>0.725391</td>\n",
       "      <td>0.575539</td>\n",
       "      <td>0.868208</td>\n",
       "      <td>2.329492e-10</td>\n",
       "      <td>0.307286</td>\n",
       "    </tr>\n",
       "    <tr>\n",
       "      <th>1</th>\n",
       "      <td>2025-01-01 00:01:00</td>\n",
       "      <td>0.491755</td>\n",
       "      <td>0.713490</td>\n",
       "      <td>0.822658</td>\n",
       "      <td>0.347564</td>\n",
       "      <td>1.000000e+00</td>\n",
       "      <td>0.278614</td>\n",
       "    </tr>\n",
       "    <tr>\n",
       "      <th>2</th>\n",
       "      <td>2025-01-01 00:02:00</td>\n",
       "      <td>0.536475</td>\n",
       "      <td>0.575316</td>\n",
       "      <td>0.962874</td>\n",
       "      <td>0.337729</td>\n",
       "      <td>1.000000e+00</td>\n",
       "      <td>0.522542</td>\n",
       "    </tr>\n",
       "    <tr>\n",
       "      <th>3</th>\n",
       "      <td>2025-01-01 00:03:00</td>\n",
       "      <td>0.586144</td>\n",
       "      <td>0.466971</td>\n",
       "      <td>0.499400</td>\n",
       "      <td>0.200164</td>\n",
       "      <td>1.000000e+00</td>\n",
       "      <td>0.083291</td>\n",
       "    </tr>\n",
       "    <tr>\n",
       "      <th>4</th>\n",
       "      <td>2025-01-01 00:04:00</td>\n",
       "      <td>0.490069</td>\n",
       "      <td>0.330306</td>\n",
       "      <td>0.198177</td>\n",
       "      <td>0.379726</td>\n",
       "      <td>1.000000e+00</td>\n",
       "      <td>0.271229</td>\n",
       "    </tr>\n",
       "  </tbody>\n",
       "</table>\n",
       "</div>"
      ],
      "text/plain": [
       "            Timestamp       RPM  CylinderPressure  BurnRate  Vibration  \\\n",
       "0 2025-01-01 00:00:00  0.525701          0.725391  0.575539   0.868208   \n",
       "1 2025-01-01 00:01:00  0.491755          0.713490  0.822658   0.347564   \n",
       "2 2025-01-01 00:02:00  0.536475          0.575316  0.962874   0.337729   \n",
       "3 2025-01-01 00:03:00  0.586144          0.466971  0.499400   0.200164   \n",
       "4 2025-01-01 00:04:00  0.490069          0.330306  0.198177   0.379726   \n",
       "\n",
       "     EGOVoltage  TempSensor  \n",
       "0  2.329492e-10    0.307286  \n",
       "1  1.000000e+00    0.278614  \n",
       "2  1.000000e+00    0.522542  \n",
       "3  1.000000e+00    0.083291  \n",
       "4  1.000000e+00    0.271229  "
      ]
     },
     "execution_count": 18,
     "metadata": {},
     "output_type": "execute_result"
    }
   ],
   "source": [
    "df_scaled.head()"
   ]
  },
  {
   "cell_type": "code",
   "execution_count": 20,
   "metadata": {},
   "outputs": [
    {
     "data": {
      "text/plain": [
       "(172800, 7)"
      ]
     },
     "execution_count": 20,
     "metadata": {},
     "output_type": "execute_result"
    }
   ],
   "source": [
    "df.shape"
   ]
  },
  {
   "cell_type": "code",
   "execution_count": 19,
   "metadata": {},
   "outputs": [
    {
     "name": "stdout",
     "output_type": "stream",
     "text": [
      "X_rpm shape: (172740, 60)\n",
      "y_rpm shape: (172740,)\n"
     ]
    }
   ],
   "source": [
    "# Define the sequence length (e.g., use 60 timesteps to predict the next one)\n",
    "sequence_length = 60\n",
    "\n",
    "def create_sequences(data, seq_length):\n",
    "    X, y = [], []\n",
    "    for i in range(len(data) - seq_length):\n",
    "        X.append(data[i:i + seq_length])  # Sequence of seq_length values\n",
    "        y.append(data[i + seq_length])    # Next value to predict\n",
    "    return np.array(X), np.array(y)\n",
    "\n",
    "# Example: Create sequences for the 'RPM' column\n",
    "rpm_data = df_scaled['RPM'].values\n",
    "X_rpm, y_rpm = create_sequences(rpm_data, sequence_length)\n",
    "\n",
    "# Print shapes to verify\n",
    "print(\"X_rpm shape:\", X_rpm.shape)\n",
    "print(\"y_rpm shape:\", y_rpm.shape)"
   ]
  },
  {
   "cell_type": "code",
   "execution_count": 27,
   "metadata": {},
   "outputs": [
    {
     "name": "stdout",
     "output_type": "stream",
     "text": [
      "LSTMModel(\n",
      "  (lstm): LSTM(1, 50, batch_first=True)\n",
      "  (fc): Linear(in_features=50, out_features=1, bias=True)\n",
      ")\n"
     ]
    }
   ],
   "source": [
    "class LSTMModel(nn.Module):\n",
    "    def __init__(self, input_size=1, hidden_size=50, num_layers=1, output_size=1):\n",
    "        super(LSTMModel, self).__init__()\n",
    "        self.hidden_size = hidden_size\n",
    "        self.num_layers = num_layers\n",
    "        self.lstm = nn.LSTM(input_size, hidden_size, num_layers, batch_first=True)\n",
    "        self.fc = nn.Linear(hidden_size, output_size)\n",
    "    \n",
    "    def forward(self, x):\n",
    "        # Initialize hidden state with zeros\n",
    "        batch_size = x.size(0)  # Dynamically get batch size from input\n",
    "        h0 = torch.zeros(self.num_layers, batch_size, self.hidden_size).to(x.device)\n",
    "        c0 = torch.zeros(self.num_layers, batch_size, self.hidden_size).to(x.device)\n",
    "        \n",
    "        # Forward propagate LSTM\n",
    "        out, _ = self.lstm(x, (h0, c0))  # out: tensor of shape (batch_size, seq_length, hidden_size)\n",
    "        \n",
    "        # Get the outputs for the last time step\n",
    "        out = out[:, -1, :]\n",
    "        out = self.fc(out)\n",
    "        return out\n",
    "\n",
    "# Example: Instantiate the model for a feature\n",
    "model = LSTMModel(input_size=1, hidden_size=50, num_layers=1, output_size=1)\n",
    "print(model)"
   ]
  },
  {
   "cell_type": "code",
   "execution_count": 23,
   "metadata": {},
   "outputs": [],
   "source": [
    "# Define loss function and optimizer\n",
    "criterion = nn.MSELoss()\n",
    "optimizer = torch.optim.Adam(model.parameters(), lr=0.001)"
   ]
  },
  {
   "cell_type": "code",
   "execution_count": 28,
   "metadata": {},
   "outputs": [],
   "source": [
    "# Split the RPM data into train and test sets (98-20 split)\n",
    "feature = \"RPM\"\n",
    "X_rpm, y_rpm = create_sequences(rpm_data, sequence_length)  # Assume this function is defined\n",
    "train_size = int(len(X_rpm) * 0.8)\n",
    "X_train = X_rpm[:train_size]\n",
    "y_train = y_rpm[:train_size]\n",
    "X_test = X_rpm[train_size:]\n",
    "y_test = y_rpm[train_size:]\n",
    "\n",
    "# Convert to PyTorch tensors\n",
    "X_train = torch.FloatTensor(X_train)\n",
    "y_train = torch.FloatTensor(y_train)\n",
    "X_test = torch.FloatTensor(X_test)\n",
    "y_test = torch.FloatTensor(y_test)\n",
    "\n",
    "# Reshape X_train and X_test to (batch_size, sequence_length, features)\n",
    "X_train = X_train.reshape(X_train.shape[0], X_train.shape[1], 1)\n",
    "X_test = X_test.reshape(X_test.shape[0], X_test.shape[1], 1)\n",
    "\n",
    "# Number of epochs\n",
    "num_epochs = 50\n",
    "batch_size = 32\n",
    "\n",
    "# Create DataLoader for training\n",
    "train_dataset = torch.utils.data.TensorDataset(X_train, y_train)\n",
    "train_loader = torch.utils.data.DataLoader(train_dataset, batch_size=batch_size, shuffle=False)"
   ]
  },
  {
   "cell_type": "code",
   "execution_count": 31,
   "metadata": {},
   "outputs": [
    {
     "name": "stdout",
     "output_type": "stream",
     "text": [
      "Epoch [1/50]\n",
      "  Training Loss: 0.4183\n",
      "  Training R² Score: -9.1033\n",
      "  Test Loss: 0.4179\n",
      "  Test R² Score: -9.1332\n",
      "----------------------------------------\n",
      "Epoch [2/50]\n",
      "  Training Loss: 0.4183\n",
      "  Training R² Score: -9.1033\n",
      "  Test Loss: 0.4179\n",
      "  Test R² Score: -9.1332\n",
      "----------------------------------------\n",
      "Epoch [3/50]\n",
      "  Training Loss: 0.4183\n",
      "  Training R² Score: -9.1033\n",
      "  Test Loss: 0.4179\n",
      "  Test R² Score: -9.1332\n",
      "----------------------------------------\n"
     ]
    },
    {
     "ename": "KeyboardInterrupt",
     "evalue": "",
     "output_type": "error",
     "traceback": [
      "\u001b[31m---------------------------------------------------------------------------\u001b[39m",
      "\u001b[31mKeyboardInterrupt\u001b[39m                         Traceback (most recent call last)",
      "\u001b[36mCell\u001b[39m\u001b[36m \u001b[39m\u001b[32mIn[31]\u001b[39m\u001b[32m, line 9\u001b[39m\n\u001b[32m      6\u001b[39m train_predictions = []\n\u001b[32m      7\u001b[39m train_targets = []\n\u001b[32m----> \u001b[39m\u001b[32m9\u001b[39m \u001b[43m\u001b[49m\u001b[38;5;28;43;01mfor\u001b[39;49;00m\u001b[43m \u001b[49m\u001b[43mbatch_X\u001b[49m\u001b[43m,\u001b[49m\u001b[43m \u001b[49m\u001b[43mbatch_y\u001b[49m\u001b[43m \u001b[49m\u001b[38;5;129;43;01min\u001b[39;49;00m\u001b[43m \u001b[49m\u001b[43mtrain_loader\u001b[49m\u001b[43m:\u001b[49m\n\u001b[32m     10\u001b[39m \u001b[43m    \u001b[49m\u001b[38;5;66;43;03m# Forward pass\u001b[39;49;00m\n\u001b[32m     11\u001b[39m \u001b[43m    \u001b[49m\u001b[43moutputs\u001b[49m\u001b[43m \u001b[49m\u001b[43m=\u001b[49m\u001b[43m \u001b[49m\u001b[43mmodel\u001b[49m\u001b[43m(\u001b[49m\u001b[43mbatch_X\u001b[49m\u001b[43m)\u001b[49m\n\u001b[32m     12\u001b[39m \u001b[43m    \u001b[49m\u001b[43mloss\u001b[49m\u001b[43m \u001b[49m\u001b[43m=\u001b[49m\u001b[43m \u001b[49m\u001b[43mcriterion\u001b[49m\u001b[43m(\u001b[49m\u001b[43moutputs\u001b[49m\u001b[43m.\u001b[49m\u001b[43msqueeze\u001b[49m\u001b[43m(\u001b[49m\u001b[43m)\u001b[49m\u001b[43m,\u001b[49m\u001b[43m \u001b[49m\u001b[43mbatch_y\u001b[49m\u001b[43m)\u001b[49m\n",
      "\u001b[36mFile \u001b[39m\u001b[32m/opt/anaconda3/envs/betzflip-env/lib/python3.12/site-packages/torch/utils/data/dataloader.py:729\u001b[39m, in \u001b[36m_BaseDataLoaderIter.__next__\u001b[39m\u001b[34m(self)\u001b[39m\n\u001b[32m    728\u001b[39m \u001b[38;5;28;01mdef\u001b[39;00m\u001b[38;5;250m \u001b[39m\u001b[34m__next__\u001b[39m(\u001b[38;5;28mself\u001b[39m) -> Any:\n\u001b[32m--> \u001b[39m\u001b[32m729\u001b[39m \u001b[43m    \u001b[49m\u001b[38;5;28;43;01mwith\u001b[39;49;00m\u001b[43m \u001b[49m\u001b[43mtorch\u001b[49m\u001b[43m.\u001b[49m\u001b[43mautograd\u001b[49m\u001b[43m.\u001b[49m\u001b[43mprofiler\u001b[49m\u001b[43m.\u001b[49m\u001b[43mrecord_function\u001b[49m\u001b[43m(\u001b[49m\u001b[38;5;28;43mself\u001b[39;49m\u001b[43m.\u001b[49m\u001b[43m_profile_name\u001b[49m\u001b[43m)\u001b[49m\u001b[43m:\u001b[49m\n\u001b[32m    730\u001b[39m \u001b[43m        \u001b[49m\u001b[38;5;28;43;01mif\u001b[39;49;00m\u001b[43m \u001b[49m\u001b[38;5;28;43mself\u001b[39;49m\u001b[43m.\u001b[49m\u001b[43m_sampler_iter\u001b[49m\u001b[43m \u001b[49m\u001b[38;5;129;43;01mis\u001b[39;49;00m\u001b[43m \u001b[49m\u001b[38;5;28;43;01mNone\u001b[39;49;00m\u001b[43m:\u001b[49m\n\u001b[32m    731\u001b[39m \u001b[43m            \u001b[49m\u001b[38;5;66;43;03m# TODO(https://github.com/pytorch/pytorch/issues/76750)\u001b[39;49;00m\n\u001b[32m    732\u001b[39m \u001b[43m            \u001b[49m\u001b[38;5;28;43mself\u001b[39;49m\u001b[43m.\u001b[49m\u001b[43m_reset\u001b[49m\u001b[43m(\u001b[49m\u001b[43m)\u001b[49m\u001b[43m  \u001b[49m\u001b[38;5;66;43;03m# type: ignore[call-arg]\u001b[39;49;00m\n",
      "\u001b[36mFile \u001b[39m\u001b[32m/opt/anaconda3/envs/betzflip-env/lib/python3.12/site-packages/torch/autograd/profiler.py:771\u001b[39m, in \u001b[36mrecord_function.__enter__\u001b[39m\u001b[34m(self)\u001b[39m\n\u001b[32m    770\u001b[39m \u001b[38;5;28;01mdef\u001b[39;00m\u001b[38;5;250m \u001b[39m\u001b[34m__enter__\u001b[39m(\u001b[38;5;28mself\u001b[39m):\n\u001b[32m--> \u001b[39m\u001b[32m771\u001b[39m     \u001b[38;5;28mself\u001b[39m.record = \u001b[43mtorch\u001b[49m\u001b[43m.\u001b[49m\u001b[43mops\u001b[49m\u001b[43m.\u001b[49m\u001b[43mprofiler\u001b[49m\u001b[43m.\u001b[49m\u001b[43m_record_function_enter_new\u001b[49m\u001b[43m(\u001b[49m\n\u001b[32m    772\u001b[39m \u001b[43m        \u001b[49m\u001b[38;5;28;43mself\u001b[39;49m\u001b[43m.\u001b[49m\u001b[43mname\u001b[49m\u001b[43m,\u001b[49m\u001b[43m \u001b[49m\u001b[38;5;28;43mself\u001b[39;49m\u001b[43m.\u001b[49m\u001b[43margs\u001b[49m\n\u001b[32m    773\u001b[39m \u001b[43m    \u001b[49m\u001b[43m)\u001b[49m\n\u001b[32m    774\u001b[39m     \u001b[38;5;28;01mreturn\u001b[39;00m \u001b[38;5;28mself\u001b[39m\n",
      "\u001b[36mFile \u001b[39m\u001b[32m/opt/anaconda3/envs/betzflip-env/lib/python3.12/site-packages/torch/_ops.py:1158\u001b[39m, in \u001b[36mOpOverloadPacket.__call__\u001b[39m\u001b[34m(self, *args, **kwargs)\u001b[39m\n\u001b[32m   1156\u001b[39m \u001b[38;5;28;01mif\u001b[39;00m \u001b[38;5;28mself\u001b[39m._has_torchbind_op_overload \u001b[38;5;129;01mand\u001b[39;00m _must_dispatch_in_python(args, kwargs):\n\u001b[32m   1157\u001b[39m     \u001b[38;5;28;01mreturn\u001b[39;00m _call_overload_packet_from_python(\u001b[38;5;28mself\u001b[39m, args, kwargs)\n\u001b[32m-> \u001b[39m\u001b[32m1158\u001b[39m \u001b[38;5;28;01mreturn\u001b[39;00m \u001b[38;5;28;43mself\u001b[39;49m\u001b[43m.\u001b[49m\u001b[43m_op\u001b[49m\u001b[43m(\u001b[49m\u001b[43m*\u001b[49m\u001b[43margs\u001b[49m\u001b[43m,\u001b[49m\u001b[43m \u001b[49m\u001b[43m*\u001b[49m\u001b[43m*\u001b[49m\u001b[43m(\u001b[49m\u001b[43mkwargs\u001b[49m\u001b[43m \u001b[49m\u001b[38;5;129;43;01mor\u001b[39;49;00m\u001b[43m \u001b[49m\u001b[43m{\u001b[49m\u001b[43m}\u001b[49m\u001b[43m)\u001b[49m\u001b[43m)\u001b[49m\n",
      "\u001b[31mKeyboardInterrupt\u001b[39m: "
     ]
    }
   ],
   "source": [
    "# Training loop with detailed logging\n",
    "for epoch in range(num_epochs):\n",
    "    # Training phase\n",
    "    model.train()\n",
    "    total_train_loss = 0\n",
    "    train_predictions = []\n",
    "    train_targets = []\n",
    "\n",
    "    for batch_X, batch_y in train_loader:\n",
    "        # Forward pass\n",
    "        outputs = model(batch_X)\n",
    "        loss = criterion(outputs.squeeze(), batch_y)\n",
    "        \n",
    "        # Backward pass and optimize\n",
    "        optimizer.zero_grad()\n",
    "        loss.backward()\n",
    "        optimizer.step()\n",
    "        \n",
    "        total_train_loss += loss.item()\n",
    "        \n",
    "        # Collect predictions and targets for R² score\n",
    "        train_predictions.extend(outputs.squeeze().detach().cpu().numpy())\n",
    "        train_targets.extend(batch_y.detach().cpu().numpy())\n",
    "\n",
    "    # Compute average training loss\n",
    "    avg_train_loss = total_train_loss / len(train_loader)\n",
    "\n",
    "    # Compute training R² score\n",
    "    train_r2 = r2_score(train_targets, train_predictions)\n",
    "\n",
    "    # Testing phase\n",
    "    model.eval()\n",
    "    with torch.no_grad():\n",
    "        # Forward pass on test set\n",
    "        y_pred = model(X_test)\n",
    "        test_loss = criterion(y_pred.squeeze(), y_test)\n",
    "        \n",
    "        # Compute test R² score\n",
    "        test_predictions = y_pred.squeeze().detach().cpu().numpy()\n",
    "        test_targets = y_test.detach().cpu().numpy()\n",
    "        test_r2 = r2_score(test_targets, test_predictions)\n",
    "\n",
    "    # Print detailed logs for each epoch\n",
    "    print(f'Epoch [{epoch+1}/{num_epochs}]')\n",
    "    print(f'  Training Loss: {avg_train_loss:.4f}')\n",
    "    print(f'  Training R² Score: {train_r2:.4f}')\n",
    "    print(f'  Test Loss: {test_loss.item():.4f}')\n",
    "    print(f'  Test R² Score: {test_r2:.4f}')\n",
    "    print('-' * 40)\n",
    "\n",
    "# Final evaluation after training\n",
    "model.eval()\n",
    "with torch.no_grad():\n",
    "    y_pred = model(X_test)\n",
    "    final_test_loss = criterion(y_pred.squeeze(), y_test)\n",
    "    final_test_predictions = y_pred.squeeze().detach().cpu().numpy()\n",
    "    final_test_targets = y_test.detach().cpu().numpy()\n",
    "    final_test_r2 = r2_score(final_test_targets, final_test_predictions)\n",
    "    print('Final Results:')\n",
    "    print(f'  Final Test Loss: {final_test_loss.item():.4f}')\n",
    "    print(f'  Final Test R² Score: {final_test_r2:.4f}')"
   ]
  },
  {
   "cell_type": "code",
   "execution_count": null,
   "metadata": {},
   "outputs": [],
   "source": []
  }
 ],
 "metadata": {
  "kernelspec": {
   "display_name": "betzflip-env",
   "language": "python",
   "name": "python3"
  },
  "language_info": {
   "codemirror_mode": {
    "name": "ipython",
    "version": 3
   },
   "file_extension": ".py",
   "mimetype": "text/x-python",
   "name": "python",
   "nbconvert_exporter": "python",
   "pygments_lexer": "ipython3",
   "version": "3.12.9"
  }
 },
 "nbformat": 4,
 "nbformat_minor": 2
}
