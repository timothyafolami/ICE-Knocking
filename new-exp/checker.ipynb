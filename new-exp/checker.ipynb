{
 "cells": [
  {
   "cell_type": "code",
   "execution_count": 1,
   "metadata": {},
   "outputs": [],
   "source": [
    "import pandas as pd\n",
    "import numpy as np"
   ]
  },
  {
   "cell_type": "code",
   "execution_count": 2,
   "metadata": {},
   "outputs": [],
   "source": [
    "df = pd.read_csv('../data/realistic_engine_knock_data_week_minute.csv')"
   ]
  },
  {
   "cell_type": "code",
   "execution_count": 3,
   "metadata": {},
   "outputs": [
    {
     "data": {
      "text/html": [
       "<div>\n",
       "<style scoped>\n",
       "    .dataframe tbody tr th:only-of-type {\n",
       "        vertical-align: middle;\n",
       "    }\n",
       "\n",
       "    .dataframe tbody tr th {\n",
       "        vertical-align: top;\n",
       "    }\n",
       "\n",
       "    .dataframe thead th {\n",
       "        text-align: right;\n",
       "    }\n",
       "</style>\n",
       "<table border=\"1\" class=\"dataframe\">\n",
       "  <thead>\n",
       "    <tr style=\"text-align: right;\">\n",
       "      <th></th>\n",
       "      <th>Timestamp</th>\n",
       "      <th>Knock</th>\n",
       "      <th>RPM</th>\n",
       "      <th>Load</th>\n",
       "      <th>ThrottlePosition</th>\n",
       "      <th>IgnitionTiming</th>\n",
       "      <th>CylinderPressure</th>\n",
       "      <th>BurnRate</th>\n",
       "      <th>Vibration</th>\n",
       "      <th>EGOVoltage</th>\n",
       "      <th>TempSensor</th>\n",
       "    </tr>\n",
       "  </thead>\n",
       "  <tbody>\n",
       "    <tr>\n",
       "      <th>0</th>\n",
       "      <td>2025-01-01 00:00:00</td>\n",
       "      <td>0.0</td>\n",
       "      <td>3456.3</td>\n",
       "      <td>23.5</td>\n",
       "      <td>20.2</td>\n",
       "      <td>20.23</td>\n",
       "      <td>28.41</td>\n",
       "      <td>0.5218</td>\n",
       "      <td>0.0547</td>\n",
       "      <td>0.478</td>\n",
       "      <td>98.5</td>\n",
       "    </tr>\n",
       "    <tr>\n",
       "      <th>1</th>\n",
       "      <td>2025-01-01 00:01:00</td>\n",
       "      <td>0.0</td>\n",
       "      <td>3666.3</td>\n",
       "      <td>0.0</td>\n",
       "      <td>0.0</td>\n",
       "      <td>24.87</td>\n",
       "      <td>22.75</td>\n",
       "      <td>0.6824</td>\n",
       "      <td>0.0116</td>\n",
       "      <td>0.525</td>\n",
       "      <td>96.3</td>\n",
       "    </tr>\n",
       "    <tr>\n",
       "      <th>2</th>\n",
       "      <td>2025-01-01 00:02:00</td>\n",
       "      <td>0.0</td>\n",
       "      <td>3559.0</td>\n",
       "      <td>33.0</td>\n",
       "      <td>39.0</td>\n",
       "      <td>18.79</td>\n",
       "      <td>31.19</td>\n",
       "      <td>0.2907</td>\n",
       "      <td>-0.0080</td>\n",
       "      <td>0.476</td>\n",
       "      <td>99.5</td>\n",
       "    </tr>\n",
       "    <tr>\n",
       "      <th>3</th>\n",
       "      <td>2025-01-01 00:03:00</td>\n",
       "      <td>0.0</td>\n",
       "      <td>3756.7</td>\n",
       "      <td>4.7</td>\n",
       "      <td>5.2</td>\n",
       "      <td>22.76</td>\n",
       "      <td>22.85</td>\n",
       "      <td>0.6728</td>\n",
       "      <td>0.1026</td>\n",
       "      <td>0.541</td>\n",
       "      <td>101.9</td>\n",
       "    </tr>\n",
       "    <tr>\n",
       "      <th>4</th>\n",
       "      <td>2025-01-01 00:04:00</td>\n",
       "      <td>0.0</td>\n",
       "      <td>3260.2</td>\n",
       "      <td>38.5</td>\n",
       "      <td>33.8</td>\n",
       "      <td>17.31</td>\n",
       "      <td>35.07</td>\n",
       "      <td>0.1931</td>\n",
       "      <td>0.0135</td>\n",
       "      <td>0.491</td>\n",
       "      <td>96.0</td>\n",
       "    </tr>\n",
       "  </tbody>\n",
       "</table>\n",
       "</div>"
      ],
      "text/plain": [
       "             Timestamp  Knock     RPM  Load  ThrottlePosition  IgnitionTiming  \\\n",
       "0  2025-01-01 00:00:00    0.0  3456.3  23.5              20.2           20.23   \n",
       "1  2025-01-01 00:01:00    0.0  3666.3   0.0               0.0           24.87   \n",
       "2  2025-01-01 00:02:00    0.0  3559.0  33.0              39.0           18.79   \n",
       "3  2025-01-01 00:03:00    0.0  3756.7   4.7               5.2           22.76   \n",
       "4  2025-01-01 00:04:00    0.0  3260.2  38.5              33.8           17.31   \n",
       "\n",
       "   CylinderPressure  BurnRate  Vibration  EGOVoltage  TempSensor  \n",
       "0             28.41    0.5218     0.0547       0.478        98.5  \n",
       "1             22.75    0.6824     0.0116       0.525        96.3  \n",
       "2             31.19    0.2907    -0.0080       0.476        99.5  \n",
       "3             22.85    0.6728     0.1026       0.541       101.9  \n",
       "4             35.07    0.1931     0.0135       0.491        96.0  "
      ]
     },
     "execution_count": 3,
     "metadata": {},
     "output_type": "execute_result"
    }
   ],
   "source": [
    "df.head()"
   ]
  },
  {
   "cell_type": "code",
   "execution_count": 5,
   "metadata": {},
   "outputs": [
    {
     "data": {
      "text/plain": [
       "(25, 11)"
      ]
     },
     "execution_count": 5,
     "metadata": {},
     "output_type": "execute_result"
    }
   ],
   "source": [
    "# checking for the total knock events \n",
    "df[df['Knock'] > 0].shape"
   ]
  },
  {
   "cell_type": "code",
   "execution_count": null,
   "metadata": {},
   "outputs": [],
   "source": []
  }
 ],
 "metadata": {
  "kernelspec": {
   "display_name": "betzflip-env",
   "language": "python",
   "name": "python3"
  },
  "language_info": {
   "codemirror_mode": {
    "name": "ipython",
    "version": 3
   },
   "file_extension": ".py",
   "mimetype": "text/x-python",
   "name": "python",
   "nbconvert_exporter": "python",
   "pygments_lexer": "ipython3",
   "version": "3.12.9"
  }
 },
 "nbformat": 4,
 "nbformat_minor": 2
}
